{
 "cells": [
  {
   "cell_type": "code",
   "execution_count": 45,
   "metadata": {},
   "outputs": [],
   "source": [
    "import pandas as pd\n",
    "import numpy as np\n",
    "from sklearn.model_selection import train_test_split\n",
    "from sklearn.linear_model import RidgeClassifier\n",
    "from sklearn.metrics import f1_score, hamming_loss\n",
    "import matplotlib.pyplot as plt\n",
    "from sklearn.preprocessing import PolynomialFeatures, MinMaxScaler, StandardScaler\n",
    "from sklearn.ensemble import RandomForestClassifier"
   ]
  },
  {
   "cell_type": "code",
   "execution_count": 30,
   "metadata": {},
   "outputs": [
    {
     "data": {
      "text/plain": [
       "('./data/X_test.csv', <http.client.HTTPMessage at 0x1da8004bad0>)"
      ]
     },
     "execution_count": 30,
     "metadata": {},
     "output_type": "execute_result"
    }
   ],
   "source": [
    "# download the dataset\n",
    "import urllib.request\n",
    "\n",
    "urllib.request.urlretrieve(\"https://nthu-datalab.github.io/ml/labs/05_Regularization/data/X_train.csv\", \"./data/X_train.csv\")\n",
    "urllib.request.urlretrieve(\"https://nthu-datalab.github.io/ml/labs/05_Regularization/data/y_train.csv\", \"./data/y_train.csv\")\n",
    "urllib.request.urlretrieve(\"https://nthu-datalab.github.io/ml/labs/05_Regularization/data/X_test.csv\", \"./data/X_test.csv\")\n"
   ]
  },
  {
   "cell_type": "code",
   "execution_count": 46,
   "metadata": {},
   "outputs": [],
   "source": [
    "X_train = pd.read_csv('./data/X_train.csv')\n",
    "y_train = pd.read_csv('./data/y_train.csv')\n",
    "X_test = pd.read_csv('./data/X_test.csv')"
   ]
  },
  {
   "cell_type": "code",
   "execution_count": 47,
   "metadata": {},
   "outputs": [],
   "source": [
    "columns = X_train.columns"
   ]
  },
  {
   "cell_type": "code",
   "execution_count": 48,
   "metadata": {},
   "outputs": [
    {
     "name": "stdout",
     "output_type": "stream",
     "text": [
      "(85751, 8)\n",
      "Index(['PERIOD', 'GAME_CLOCK', 'SHOT_CLOCK', 'DRIBBLES', 'TOUCH_TIME',\n",
      "       'SHOT_DIST', 'PTS_TYPE', 'CLOSE_DEF_DIST'],\n",
      "      dtype='object')\n",
      "Index(['FGM'], dtype='object')\n"
     ]
    }
   ],
   "source": [
    "print(X_train.shape)\n",
    "print(X_train.columns)\n",
    "print(y_train.columns)"
   ]
  },
  {
   "cell_type": "code",
   "execution_count": 49,
   "metadata": {},
   "outputs": [
    {
     "data": {
      "text/html": [
       "<div>\n",
       "<style scoped>\n",
       "    .dataframe tbody tr th:only-of-type {\n",
       "        vertical-align: middle;\n",
       "    }\n",
       "\n",
       "    .dataframe tbody tr th {\n",
       "        vertical-align: top;\n",
       "    }\n",
       "\n",
       "    .dataframe thead th {\n",
       "        text-align: right;\n",
       "    }\n",
       "</style>\n",
       "<table border=\"1\" class=\"dataframe\">\n",
       "  <thead>\n",
       "    <tr style=\"text-align: right;\">\n",
       "      <th></th>\n",
       "      <th>PERIOD</th>\n",
       "      <th>GAME_CLOCK</th>\n",
       "      <th>SHOT_CLOCK</th>\n",
       "      <th>DRIBBLES</th>\n",
       "      <th>TOUCH_TIME</th>\n",
       "      <th>SHOT_DIST</th>\n",
       "      <th>PTS_TYPE</th>\n",
       "      <th>CLOSE_DEF_DIST</th>\n",
       "    </tr>\n",
       "  </thead>\n",
       "  <tbody>\n",
       "    <tr>\n",
       "      <th>85746</th>\n",
       "      <td>4</td>\n",
       "      <td>404</td>\n",
       "      <td>2.1</td>\n",
       "      <td>0</td>\n",
       "      <td>0.9</td>\n",
       "      <td>22.1</td>\n",
       "      <td>3</td>\n",
       "      <td>6.5</td>\n",
       "    </tr>\n",
       "    <tr>\n",
       "      <th>85747</th>\n",
       "      <td>1</td>\n",
       "      <td>211</td>\n",
       "      <td>0.9</td>\n",
       "      <td>2</td>\n",
       "      <td>2.5</td>\n",
       "      <td>5.1</td>\n",
       "      <td>2</td>\n",
       "      <td>2.1</td>\n",
       "    </tr>\n",
       "    <tr>\n",
       "      <th>85748</th>\n",
       "      <td>4</td>\n",
       "      <td>627</td>\n",
       "      <td>18.3</td>\n",
       "      <td>0</td>\n",
       "      <td>1.8</td>\n",
       "      <td>25.4</td>\n",
       "      <td>3</td>\n",
       "      <td>4.3</td>\n",
       "    </tr>\n",
       "    <tr>\n",
       "      <th>85749</th>\n",
       "      <td>2</td>\n",
       "      <td>229</td>\n",
       "      <td>2.0</td>\n",
       "      <td>1</td>\n",
       "      <td>2.5</td>\n",
       "      <td>14.5</td>\n",
       "      <td>2</td>\n",
       "      <td>1.4</td>\n",
       "    </tr>\n",
       "    <tr>\n",
       "      <th>85750</th>\n",
       "      <td>4</td>\n",
       "      <td>266</td>\n",
       "      <td>12.6</td>\n",
       "      <td>0</td>\n",
       "      <td>0.3</td>\n",
       "      <td>1.3</td>\n",
       "      <td>2</td>\n",
       "      <td>4.6</td>\n",
       "    </tr>\n",
       "  </tbody>\n",
       "</table>\n",
       "</div>"
      ],
      "text/plain": [
       "       PERIOD  GAME_CLOCK  SHOT_CLOCK  DRIBBLES  TOUCH_TIME  SHOT_DIST  \\\n",
       "85746       4         404         2.1         0         0.9       22.1   \n",
       "85747       1         211         0.9         2         2.5        5.1   \n",
       "85748       4         627        18.3         0         1.8       25.4   \n",
       "85749       2         229         2.0         1         2.5       14.5   \n",
       "85750       4         266        12.6         0         0.3        1.3   \n",
       "\n",
       "       PTS_TYPE  CLOSE_DEF_DIST  \n",
       "85746         3             6.5  \n",
       "85747         2             2.1  \n",
       "85748         3             4.3  \n",
       "85749         2             1.4  \n",
       "85750         2             4.6  "
      ]
     },
     "execution_count": 49,
     "metadata": {},
     "output_type": "execute_result"
    }
   ],
   "source": [
    "X_train.tail()"
   ]
  },
  {
   "cell_type": "markdown",
   "metadata": {},
   "source": [
    "### Split dataset"
   ]
  },
  {
   "cell_type": "code",
   "execution_count": 50,
   "metadata": {},
   "outputs": [
    {
     "name": "stdout",
     "output_type": "stream",
     "text": [
      "(60025, 8)\n",
      "(25726, 8)\n"
     ]
    }
   ],
   "source": [
    "X_train, X_valid, y_train, y_valid = train_test_split(X_train, y_train, test_size=0.3, random_state=42)\n",
    "\n",
    "print(X_train.shape)\n",
    "print(X_valid.shape)"
   ]
  },
  {
   "cell_type": "markdown",
   "metadata": {},
   "source": [
    "### Apply MinMax scaling to normalize data"
   ]
  },
  {
   "cell_type": "code",
   "execution_count": 51,
   "metadata": {},
   "outputs": [],
   "source": [
    "## preprocessing\n",
    "scaler = StandardScaler()\n",
    "X_train = scaler.fit_transform(X_train)\n",
    "X_valid = scaler.transform(X_valid)\n",
    "X_test = scaler.transform(X_test)\n"
   ]
  },
  {
   "cell_type": "markdown",
   "metadata": {},
   "source": [
    "### Part 1"
   ]
  },
  {
   "cell_type": "code",
   "execution_count": 52,
   "metadata": {},
   "outputs": [
    {
     "name": "stdout",
     "output_type": "stream",
     "text": [
      "\n",
      "Ridge Classifier Model alpha=1............................................\n",
      "\n",
      "The train score for ridge model is 0.6062807163681799\n",
      "The test score for ridge model is 0.6068568763119023\n",
      "The hamming_loss for ridge model is 0.3931431236880976\n"
     ]
    }
   ],
   "source": [
    "# use all features to train ridge classifier model using degree=1\n",
    "poly = PolynomialFeatures(degree=1)\n",
    "X_train_poly = poly.fit_transform(X_train)\n",
    "X_valid_poly = poly.transform(X_valid)\n",
    "ridge = RidgeClassifier()\n",
    "\n",
    "ridge.fit(X_train_poly,y_train.values.ravel())\n",
    "y_train_pred = ridge.predict(X_train_poly)\n",
    "y_valid_pred = ridge.predict(X_valid_poly)\n",
    "\n",
    "#train and test score for ridge classifier\n",
    "train_score_ridge = ridge.score(X_train_poly, y_train)\n",
    "test_score_ridge = ridge.score(X_valid_poly, y_valid)\n",
    "print(\"\\nRidge Classifier Model alpha=1............................................\\n\")\n",
    "print(\"The train score for ridge model is {}\".format(train_score_ridge))\n",
    "print(\"The test score for ridge model is {}\".format(test_score_ridge))\n",
    "# print the hamming_loss\n",
    "print(\"The hamming_loss for ridge model is {}\".format(hamming_loss(y_valid, y_valid_pred)))\n"
   ]
  },
  {
   "cell_type": "code",
   "execution_count": 53,
   "metadata": {},
   "outputs": [
    {
     "name": "stdout",
     "output_type": "stream",
     "text": [
      "\n",
      "Ridge Classifier Model degree=2............................................\n",
      "\n",
      "The train score for ridge model is 0.6158767180341524\n",
      "The test score for ridge model is 0.6150586954831688\n",
      "The hamming_loss for ridge model is 0.38494130451683123\n"
     ]
    }
   ],
   "source": [
    "# use all features to train ridge classifier model using degree=2\n",
    "poly = PolynomialFeatures(degree=2)\n",
    "X_train_poly = poly.fit_transform(X_train)\n",
    "X_valid_poly = poly.transform(X_valid)\n",
    "ridge = RidgeClassifier()\n",
    "\n",
    "ridge.fit(X_train_poly,y_train.values.ravel())\n",
    "y_train_pred = ridge.predict(X_train_poly)\n",
    "y_valid_pred = ridge.predict(X_valid_poly)\n",
    "\n",
    "#train and test score for ridge classifier\n",
    "train_score_ridge = ridge.score(X_train_poly, y_train)\n",
    "test_score_ridge = ridge.score(X_valid_poly, y_valid)\n",
    "print(\"\\nRidge Classifier Model degree=2............................................\\n\")\n",
    "print(\"The train score for ridge model is {}\".format(train_score_ridge))\n",
    "print(\"The test score for ridge model is {}\".format(test_score_ridge))\n",
    "# print the hamming_loss\n",
    "print(\"The hamming_loss for ridge model is {}\".format(hamming_loss(y_valid, y_valid_pred)))\n"
   ]
  },
  {
   "cell_type": "code",
   "execution_count": 54,
   "metadata": {},
   "outputs": [
    {
     "name": "stdout",
     "output_type": "stream",
     "text": [
      "\n",
      "Ridge Classifier Model degree=4............................................\n",
      "\n",
      "The train score for ridge model is 0.6212078300708038\n",
      "The test score for ridge model is 0.6147088548550105\n",
      "The hamming_loss for ridge model is 0.3852911451449895\n"
     ]
    }
   ],
   "source": [
    "# use all features to train ridge classifier model using degree=4\n",
    "poly = PolynomialFeatures(degree=4)\n",
    "X_train_poly = poly.fit_transform(X_train)\n",
    "X_valid_poly = poly.transform(X_valid)\n",
    "ridge = RidgeClassifier()\n",
    "\n",
    "ridge.fit(X_train_poly,y_train.values.ravel())\n",
    "y_train_pred = ridge.predict(X_train_poly)\n",
    "y_valid_pred = ridge.predict(X_valid_poly)\n",
    "\n",
    "#train and test score for ridge classifier\n",
    "train_score_ridge = ridge.score(X_train_poly, y_train)\n",
    "test_score_ridge = ridge.score(X_valid_poly, y_valid)\n",
    "print(\"\\nRidge Classifier Model degree=4............................................\\n\")\n",
    "print(\"The train score for ridge model is {}\".format(train_score_ridge))\n",
    "print(\"The test score for ridge model is {}\".format(test_score_ridge))\n",
    "# print the hamming_loss\n",
    "print(\"The hamming_loss for ridge model is {}\".format(hamming_loss(y_valid, y_valid_pred)))\n"
   ]
  },
  {
   "cell_type": "markdown",
   "metadata": {},
   "source": [
    "### Part 2"
   ]
  },
  {
   "cell_type": "code",
   "execution_count": 55,
   "metadata": {},
   "outputs": [
    {
     "name": "stderr",
     "output_type": "stream",
     "text": [
      "c:\\Users\\user\\AppData\\Local\\Programs\\Python\\Python312\\Lib\\site-packages\\sklearn\\linear_model\\_ridge.py:1303: DataConversionWarning: A column-vector y was passed when a 1d array was expected. Please change the shape of y to (n_samples, ), for example using ravel().\n",
      "  y = column_or_1d(y, warn=True)\n",
      "c:\\Users\\user\\AppData\\Local\\Programs\\Python\\Python312\\Lib\\site-packages\\sklearn\\linear_model\\_ridge.py:1303: DataConversionWarning: A column-vector y was passed when a 1d array was expected. Please change the shape of y to (n_samples, ), for example using ravel().\n",
      "  y = column_or_1d(y, warn=True)\n"
     ]
    },
    {
     "name": "stdout",
     "output_type": "stream",
     "text": [
      "\n",
      "[degree = 1]\n",
      "hamming_loss train: 0.39, test: 0.39\n",
      "\n",
      "[degree = 2]\n",
      "hamming_loss train: 0.38, test: 0.38\n"
     ]
    },
    {
     "name": "stderr",
     "output_type": "stream",
     "text": [
      "c:\\Users\\user\\AppData\\Local\\Programs\\Python\\Python312\\Lib\\site-packages\\sklearn\\linear_model\\_ridge.py:1303: DataConversionWarning: A column-vector y was passed when a 1d array was expected. Please change the shape of y to (n_samples, ), for example using ravel().\n",
      "  y = column_or_1d(y, warn=True)\n"
     ]
    },
    {
     "name": "stdout",
     "output_type": "stream",
     "text": [
      "\n",
      "[degree = 3]\n",
      "hamming_loss train: 0.38, test: 0.38\n"
     ]
    },
    {
     "name": "stderr",
     "output_type": "stream",
     "text": [
      "c:\\Users\\user\\AppData\\Local\\Programs\\Python\\Python312\\Lib\\site-packages\\sklearn\\linear_model\\_ridge.py:1303: DataConversionWarning: A column-vector y was passed when a 1d array was expected. Please change the shape of y to (n_samples, ), for example using ravel().\n",
      "  y = column_or_1d(y, warn=True)\n"
     ]
    },
    {
     "name": "stdout",
     "output_type": "stream",
     "text": [
      "\n",
      "[degree = 4]\n",
      "hamming_loss train: 0.38, test: 0.39\n"
     ]
    },
    {
     "name": "stderr",
     "output_type": "stream",
     "text": [
      "c:\\Users\\user\\AppData\\Local\\Programs\\Python\\Python312\\Lib\\site-packages\\sklearn\\linear_model\\_ridge.py:1303: DataConversionWarning: A column-vector y was passed when a 1d array was expected. Please change the shape of y to (n_samples, ), for example using ravel().\n",
      "  y = column_or_1d(y, warn=True)\n"
     ]
    },
    {
     "name": "stdout",
     "output_type": "stream",
     "text": [
      "\n",
      "[degree = 5]\n",
      "hamming_loss train: 0.37, test: 0.39\n"
     ]
    },
    {
     "name": "stderr",
     "output_type": "stream",
     "text": [
      "c:\\Users\\user\\AppData\\Local\\Programs\\Python\\Python312\\Lib\\site-packages\\sklearn\\linear_model\\_ridge.py:1303: DataConversionWarning: A column-vector y was passed when a 1d array was expected. Please change the shape of y to (n_samples, ), for example using ravel().\n",
      "  y = column_or_1d(y, warn=True)\n",
      "c:\\Users\\user\\AppData\\Local\\Programs\\Python\\Python312\\Lib\\site-packages\\sklearn\\linear_model\\_ridge.py:216: LinAlgWarning: Ill-conditioned matrix (rcond=9.48598e-20): result may not be accurate.\n",
      "  return linalg.solve(A, Xy, assume_a=\"pos\", overwrite_a=True).T\n"
     ]
    },
    {
     "name": "stdout",
     "output_type": "stream",
     "text": [
      "\n",
      "[degree = 6]\n",
      "hamming_loss train: 0.36, test: 0.40\n"
     ]
    },
    {
     "data": {
      "image/png": "[encoded data removed]",
      "text/plain": [
       "<Figure size 640x480 with 1 Axes>"
      ]
     },
     "metadata": {},
     "output_type": "display_data"
    }
   ],
   "source": [
    "f1_train = []\n",
    "f1_valid = []\n",
    "degrees = range(1, 7)\n",
    "\n",
    "for d in degrees:\n",
    "    poly = PolynomialFeatures(degree=d)\n",
    "    X_train_poly = poly.fit_transform(X_train)\n",
    "    X_valid_poly = poly.transform(X_valid)\n",
    "    lr_rg = RidgeClassifier(alpha=1)\n",
    "    lr_rg.fit(X_train_poly, y_train)\n",
    "\n",
    "    y_train_pred = lr_rg.predict(X_train_poly)\n",
    "    y_valid_pred = lr_rg.predict(X_valid_poly)\n",
    "\n",
    "    print('\\n[degree = %d]' % d )\n",
    "    print('hamming_loss train: %.2f, test: %.2f' % (\n",
    "                    hamming_loss(y_train, y_train_pred),\n",
    "                    hamming_loss(y_valid, y_valid_pred))) \n",
    "    f1_train.append(hamming_loss(y_train, y_train_pred))\n",
    "    f1_valid.append(hamming_loss(y_valid, y_valid_pred))\n",
    "\n",
    "plt.plot(degrees, f1_train, label='train', color='b')\n",
    "plt.plot(degrees, f1_valid, label='valid', color='r')\n",
    "plt.xlabel('degree')\n",
    "plt.legend(loc='upper right')\n",
    "plt.title('f1_score for different degrees')\n",
    "plt.show() "
   ]
  },
  {
   "cell_type": "markdown",
   "metadata": {},
   "source": [
    "### Part 3"
   ]
  },
  {
   "cell_type": "code",
   "execution_count": 56,
   "metadata": {},
   "outputs": [
    {
     "name": "stderr",
     "output_type": "stream",
     "text": [
      "c:\\Users\\user\\AppData\\Local\\Programs\\Python\\Python312\\Lib\\site-packages\\sklearn\\base.py:1473: DataConversionWarning: A column-vector y was passed when a 1d array was expected. Please change the shape of y to (n_samples,), for example using ravel().\n",
      "  return fit_method(estimator, *args, **kwargs)\n"
     ]
    },
    {
     "name": "stdout",
     "output_type": "stream",
     "text": [
      "Accuracy before feature selection: 0.60\n"
     ]
    }
   ],
   "source": [
    "rf = RandomForestClassifier(n_estimators=100, random_state=42)\n",
    "rf.fit(X_train, y_train)\n",
    "\n",
    "# Evaluate the model\n",
    "accuracy_before = rf.score(X_valid, y_valid)\n",
    "print(f'Accuracy before feature selection: {accuracy_before:.2f}')"
   ]
  },
  {
   "cell_type": "code",
   "execution_count": 57,
   "metadata": {},
   "outputs": [
    {
     "name": "stdout",
     "output_type": "stream",
     "text": [
      "          Feature  Importance\n",
      "5       SHOT_DIST    0.203140\n",
      "1      GAME_CLOCK    0.200254\n",
      "2      SHOT_CLOCK    0.185948\n",
      "7  CLOSE_DEF_DIST    0.165503\n",
      "4      TOUCH_TIME    0.140963\n",
      "0          PERIOD    0.048869\n",
      "3        DRIBBLES    0.047423\n",
      "6        PTS_TYPE    0.007899\n"
     ]
    }
   ],
   "source": [
    "X_train = pd.DataFrame(X_train, columns=columns)\n",
    "X_valid = pd.DataFrame(X_valid, columns=columns)\n",
    "X_test = pd.DataFrame(X_test, columns=columns)\n",
    "importances = rf.feature_importances_\n",
    "feature_names = columns\n",
    "feature_importance_df = pd.DataFrame({'Feature': feature_names, 'Importance': importances})\n",
    "\n",
    "# Rank features by importance\n",
    "feature_importance_df = feature_importance_df.sort_values(by='Importance', ascending=False)\n",
    "print(feature_importance_df)\n",
    "\n",
    "# Select top N features (example selecting top 10 features)\n",
    "top_features = feature_importance_df['Feature'][:10].values\n",
    "X_train_selected = X_train[top_features]\n",
    "X_test_selected = X_test[top_features]\n",
    "X_valid_selected = X_valid[top_features]"
   ]
  },
  {
   "cell_type": "markdown",
   "metadata": {},
   "source": [
    "### Part 4"
   ]
  },
  {
   "cell_type": "code",
   "execution_count": 59,
   "metadata": {},
   "outputs": [
    {
     "name": "stderr",
     "output_type": "stream",
     "text": [
      "c:\\Users\\user\\AppData\\Local\\Programs\\Python\\Python312\\Lib\\site-packages\\sklearn\\linear_model\\_ridge.py:216: LinAlgWarning: Ill-conditioned matrix (rcond=9.48594e-20): result may not be accurate.\n",
      "  return linalg.solve(A, Xy, assume_a=\"pos\", overwrite_a=True).T\n"
     ]
    },
    {
     "name": "stdout",
     "output_type": "stream",
     "text": [
      "\n",
      "Ridge Classifier Model degree=4............................................\n",
      "\n",
      "The train score for ridge model is 0.6372011661807581\n",
      "The test score for ridge model is 0.604135893648449\n",
      "The hamming_loss for ridge model is 0.39586410635155095\n"
     ]
    }
   ],
   "source": [
    "oly = PolynomialFeatures(degree=2)\n",
    "X_train_poly = poly.fit_transform(X_train_selected)\n",
    "X_valid_poly = poly.transform(X_valid_selected)\n",
    "ridge = RidgeClassifier()\n",
    "\n",
    "ridge.fit(X_train_poly,y_train.values.ravel())\n",
    "y_train_pred = ridge.predict(X_train_poly)\n",
    "y_valid_pred = ridge.predict(X_valid_poly)\n",
    "\n",
    "#train and test score for ridge classifier\n",
    "train_score_ridge = ridge.score(X_train_poly, y_train)\n",
    "test_score_ridge = ridge.score(X_valid_poly, y_valid)\n",
    "print(\"\\nRidge Classifier Model degree=4............................................\\n\")\n",
    "print(\"The train score for ridge model is {}\".format(train_score_ridge))\n",
    "print(\"The test score for ridge model is {}\".format(test_score_ridge))\n",
    "# print the hamming_loss\n",
    "print(\"The hamming_loss for ridge model is {}\".format(hamming_loss(y_valid, y_valid_pred)))"
   ]
  },
  {
   "cell_type": "markdown",
   "metadata": {},
   "source": [
    "### Store the predicted result in CSV file"
   ]
  },
  {
   "cell_type": "code",
   "execution_count": 60,
   "metadata": {},
   "outputs": [
    {
     "name": "stdout",
     "output_type": "stream",
     "text": [
      "[0 0 1 ... 0 0 0]\n"
     ]
    }
   ],
   "source": [
    "# get the prediction of X_test\n",
    "X_test_poly = poly.transform(X_test_selected)\n",
    "y_test_pred = ridge.predict(X_test_poly)\n",
    "print(y_test_pred)\n",
    "# save the prediction to 'y_test_pred.csv'\n",
    "pd.DataFrame(y_test_pred).to_csv('y_test_pred.csv', header=['prediction'], index=False)"
   ]
  },
  {
   "cell_type": "markdown",
   "metadata": {},
   "source": [
    "## Report\n",
    "#### In part one, I choose to use ridge classifier as my linear model because the predicted value is only 0 and 1 just like a classification problem. Afterwards, I use polyfeature to test the performance using different model complexity. However, the improvement is not significant.\n",
    "\n",
    "#### In part two, I plot the error curve where the X-axis is the model complexity. I use hamming_loss instead of MSE because it is more like a classification problem. According to the figure, the model starts to over-fit when the degree is set to 3 (validation error starts to enlarge). Therefore, I set the degree to 2 in polyfeature and use ridge classifier as my model.\n",
    "\n",
    "#### In part three, I first build a random forest using original data (before polyfeature), and get feature importance to select the top three features.\n",
    "\n",
    "#### In part four, transform the selected features using polyfeature with degree = 2 and train the ridge classifier model. Even after feature selection, the performance still didn't improve a lot."
   ]
  }
 ],
 "metadata": {
  "kernelspec": {
   "display_name": "Python 3",
   "language": "python",
   "name": "python3"
  },
  "language_info": {
   "codemirror_mode": {
    "name": "ipython",
    "version": 3
   },
   "file_extension": ".py",
   "mimetype": "text/x-python",
   "name": "python",
   "nbconvert_exporter": "python",
   "pygments_lexer": "ipython3",
   "version": "3.12.5"
  }
 },
 "nbformat": 4,
 "nbformat_minor": 2
}
